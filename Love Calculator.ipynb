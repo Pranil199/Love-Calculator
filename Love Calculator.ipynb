{
 "cells": [
  {
   "cell_type": "code",
   "execution_count": 1,
   "id": "ea900b9e",
   "metadata": {},
   "outputs": [],
   "source": [
    "import random\n",
    "import time"
   ]
  },
  {
   "cell_type": "code",
   "execution_count": 2,
   "id": "0e0044b7",
   "metadata": {},
   "outputs": [],
   "source": [
    "CONSONANTS = \"bcdfghjklmnprstvwxyz\"\n",
    "VOWELS = \"aeiou\""
   ]
  },
  {
   "cell_type": "code",
   "execution_count": 3,
   "id": "609983ea",
   "metadata": {},
   "outputs": [],
   "source": [
    "def count_vowels(name):\n",
    "    \"\"\"\n",
    "    Count the number of vowels in the given name.\n",
    "\n",
    "    Args:\n",
    "        name (str): The name to count vowels in.\n",
    "\n",
    "    Returns:\n",
    "        int: The total count of vowels in the name.\n",
    "    \"\"\"\n",
    "    return sum(1 for char in name.lower() if char in VOWELS)"
   ]
  },
  {
   "cell_type": "code",
   "execution_count": 4,
   "id": "4d504ee9",
   "metadata": {},
   "outputs": [],
   "source": [
    "def count_consonants(name):\n",
    "    \"\"\"\n",
    "    Count the number of consonants in the given name.\n",
    "\n",
    "    Args:\n",
    "        name (str): The name to count consonants in.\n",
    "\n",
    "    Returns:\n",
    "        int: The total count of consonants in the name.\n",
    "    \"\"\"\n",
    "    return sum(1 for char in name.lower() if char in CONSONANTS)"
   ]
  },
  {
   "cell_type": "code",
   "execution_count": 5,
   "id": "c97cb41e",
   "metadata": {},
   "outputs": [],
   "source": [
    "def calculate_love_score(name1, name2):\n",
    "    \"\"\"\n",
    "    Calculate a love score based on factors between two names.\n",
    "\n",
    "    Args:\n",
    "        name1 (str): First name.\n",
    "        name2 (str): Second name.\n",
    "\n",
    "    Returns:\n",
    "        int: Calculated love score in percentage (0 - 100).\n",
    "    \"\"\"\n",
    "    love_score = 0\n",
    "\n",
    "    # Compare total vowels in both names\n",
    "    if count_vowels(name1) == count_vowels(name2):\n",
    "        love_score += random.randint(10, 30)\n",
    "\n",
    "    # Compare total consonants in both names\n",
    "    if count_consonants(name1) == count_consonants(name2):\n",
    "        love_score += random.randint(20, 40)\n",
    "\n",
    "    # Compare first letters of both names\n",
    "    if name1[0].lower() == name2[0].lower():\n",
    "        love_score += random.randint(10, 30)\n",
    "\n",
    "    # Compare the lengths of both names\n",
    "    if len(name1) == len(name2):\n",
    "        love_score += random.randint(1, 10)\n",
    "\n",
    "    # Add a random score to the love score\n",
    "    love_score += random.randint(10, 50)\n",
    "\n",
    "    return min(love_score, 100)  # Ensure the score does not exceed 100"
   ]
  },
  {
   "cell_type": "code",
   "execution_count": 6,
   "id": "b74e24ea",
   "metadata": {},
   "outputs": [],
   "source": [
    "def display_relationship(name1, name2, love_score):\n",
    "    \"\"\"\n",
    "    Display the relationship details between two names based on the love score.\n",
    "\n",
    "    Args:\n",
    "        name1 (str): First name.\n",
    "        name2 (str): Second name.\n",
    "        love_score (int): Calculated love score.\n",
    "\n",
    "    Returns:\n",
    "        None\n",
    "    \"\"\"\n",
    "    print(\"Calculating...\")\n",
    "    time.sleep(random.randint(1, 3))\n",
    "    print(f\"{name1} and {name2} have a {love_score}% relationship.\")\n",
    "\n",
    "    if love_score >= 90:\n",
    "        print(\"They have an unbreakable relationship that will last forever.\")\n",
    "    elif love_score >= 70:\n",
    "        print(\"They have a strong relationship that will most likely lead to a marriage.\")\n",
    "    elif love_score >= 50:\n",
    "        print(\"They have a good relationship that can lead to a honeymoon to Paris.\")\n",
    "    else:\n",
    "        print(\"They have a weak relationship that could have been a 'match made in heaven'.\")"
   ]
  },
  {
   "cell_type": "code",
   "execution_count": null,
   "id": "a601eaa7",
   "metadata": {},
   "outputs": [],
   "source": [
    "if __name__ == \"__main__\":\n",
    "    name1 = input(\"Please type Name 1:\\n\")\n",
    "    name2 = input(\"Please type Name 2:\\n\")\n",
    "\n",
    "    score = calculate_love_score(name1, name2)\n",
    "    display_relationship(name1, name2, score)"
   ]
  },
  {
   "cell_type": "code",
   "execution_count": null,
   "id": "6faa2399",
   "metadata": {},
   "outputs": [],
   "source": []
  }
 ],
 "metadata": {
  "kernelspec": {
   "display_name": "Python 3 (ipykernel)",
   "language": "python",
   "name": "python3"
  },
  "language_info": {
   "codemirror_mode": {
    "name": "ipython",
    "version": 3
   },
   "file_extension": ".py",
   "mimetype": "text/x-python",
   "name": "python",
   "nbconvert_exporter": "python",
   "pygments_lexer": "ipython3",
   "version": "3.11.5"
  }
 },
 "nbformat": 4,
 "nbformat_minor": 5
}
